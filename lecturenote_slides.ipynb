{
 "cells": [
  {
   "cell_type": "markdown",
   "metadata": {
    "slideshow": {
     "slide_type": "slide"
    }
   },
   "source": [
    "# Modeling Human-Computer Synchronized Interactions\n",
    "\n",
    "## Byungjoo Lee, [KAIST](https://www.leebyungjoo.com)"
   ]
  },
  {
   "cell_type": "markdown",
   "metadata": {
    "slideshow": {
     "slide_type": "slide"
    }
   },
   "source": [
    "## 1. Asynchronous Interaction vs. Synchronized Interaction\n",
    "\n",
    "### What are asynchronous interactions?\n",
    "\n",
    "+ It means all interactions where the user's <span style=\"color:red\">input timing does not need to be accurate or precise</span>.\n",
    "+ This includes tasks in traditional interfaces such as menu navigation, icon selection, typing, and the like.\n",
    "+ In the asynchronous interaction process, the user is given enough time to achieve his / her intention.\n",
    "+ Therefore, in the asynchronous interaction, users have a relatively low error rate when performing tasks.\n",
    "\n",
    "<img src=\"figures/figure6.gif\" width=\"300\"/>"
   ]
  },
  {
   "cell_type": "markdown",
   "metadata": {
    "slideshow": {
     "slide_type": "slide"
    }
   },
   "source": [
    "### What are synchronized interactions?\n",
    "\n",
    "+ It means all interactions that the user's <span style=\"color:red\">input timing needs to be accurate or precise</span>.\n",
    "+ This includes tasks seen in applications such as e-sports, games, music, and interactive art.\n",
    "+ In synchronized interactions, users are not given enough time to achieve their goals.\n",
    "+ Therefore, in synchronized interactions, users have a relatively high error rate when performing tasks.\n",
    "\n",
    "<img src=\"figures/figure7.gif\" width=\"250\"/>"
   ]
  },
  {
   "cell_type": "markdown",
   "metadata": {
    "slideshow": {
     "slide_type": "slide"
    }
   },
   "source": [
    "### Different perspectives on error rates\n",
    "\n",
    "+ It was intended to reduce the error rate in asynchronous interactions.\n",
    "+ However, errors in synchronized interactions are inevitable.\n",
    "+ For synchronized interactions it is very important to design an *appropriate error rate*.\n",
    "+ Obtaining an appropriate error rate affects the user's sense of agency, flow, immersion, fun, and so on."
   ]
  },
  {
   "cell_type": "markdown",
   "metadata": {
    "slideshow": {
     "slide_type": "slide"
    }
   },
   "source": [
    "### Spectrum of interaction\n",
    "\n",
    "Usually, interactions are not easily divided by the above criteria. Rather, interactions have a continuous spectrum between the two extremes:\n",
    "\n",
    "![f1](figures/f1.png)"
   ]
  },
  {
   "cell_type": "markdown",
   "metadata": {
    "slideshow": {
     "slide_type": "slide"
    }
   },
   "source": [
    "### Possible problems\n",
    "\n",
    "#### In asynchronous interaction:\n",
    "\n",
    "+ Target is too small\n",
    "+ Target is too far away\n",
    "+ Too many targets\n",
    "+ Target is occluded by fingertip\n",
    "+ The user does not remember where the target is\n",
    "+ Not sure what the icon means\n",
    "+ The state of the computer is not clear to the user"
   ]
  },
  {
   "cell_type": "markdown",
   "metadata": {
    "slideshow": {
     "slide_type": "slide"
    }
   },
   "source": [
    "<div class=\"alert alert-block alert-success\">\n",
    "    <h3>Question</h3>\n",
    "What other problems might arise during asynchronous interactions?\n",
    "</div>"
   ]
  },
  {
   "cell_type": "markdown",
   "metadata": {
    "slideshow": {
     "slide_type": "slide"
    }
   },
   "source": [
    "#### In synchronized interaction:\n",
    "\n",
    "+ Target moves too fast\n",
    "+ Difficult to predict where the target will appear\n",
    "+ Time given to observe target movement is too short\n",
    "+ Target only exists for too short duration\n",
    "+ Requires input that needs to be repeated too quickly\n",
    "+ Requires input to be repeated too slowly\n",
    "+ The computer does not respond to the timing I predicted\n",
    "+ Difficult to predict the pattern of the target's appearance"
   ]
  },
  {
   "cell_type": "markdown",
   "metadata": {
    "slideshow": {
     "slide_type": "slide"
    }
   },
   "source": [
    "<div class=\"alert alert-block alert-success\">\n",
    "    <h3>Question</h3>\n",
    "What other problems might arise during synchronized interactions?\n",
    "</div>"
   ]
  },
  {
   "cell_type": "markdown",
   "metadata": {
    "slideshow": {
     "slide_type": "slide"
    }
   },
   "source": [
    "### Motivation\n",
    "\n",
    "+ There are various theories and mathematical models describing the asynchronous interaction process (e.g., Fitts' law, Steering law, FFitts' law, and etc.).\n",
    "+ However, there is not enough mathematical modeling research on synchronized interactions.\n",
    "+ This lecture covers recent models of synchronized interaction.\n",
    "+ In particular, this lecture introduces a mathematical model that explains **how timing-critical inputs in a synchronized interaction are planned and performed by the user**."
   ]
  },
  {
   "cell_type": "markdown",
   "metadata": {
    "slideshow": {
     "slide_type": "slide"
    }
   },
   "source": [
    "From this, you can:\n",
    "\n",
    "+ understand *task variables* related to difficulty in determining input timing\n",
    "+ understand *user-side variables* related to difficulty in determining input timing\n",
    "+ predict user error rates in timing-critical input tasks\n",
    "+ compare the performance of input devices in a timing-critical input task.\n",
    "+ quantify user performance in timing-critical input tasks\n",
    "+ determine the difficulty of  [one-button real-time games](https://www.crazygames.com/t/one-button) as you like."
   ]
  },
  {
   "cell_type": "markdown",
   "metadata": {
    "slideshow": {
     "slide_type": "slide"
    }
   },
   "source": [
    "### Overview of the contents\n",
    "\n",
    "First part:\n",
    "+ Unpaced tapping model (Wing-Kristofferson model)\n",
    "+ Introduction to the concept of temporal pointing\n",
    "+ Blinking-target selection model\n",
    "\n",
    "Second part:\n",
    "+ Moving-target selection model \n",
    "+ Exercises\n",
    "+ Open modeling challenges and discussion"
   ]
  },
  {
   "cell_type": "markdown",
   "metadata": {
    "slideshow": {
     "slide_type": "slide"
    }
   },
   "source": [
    "### Required prior knowledge\n",
    "\n",
    "+ Undergraduate level understanding of statistics\n",
    "+ Undergraduate level programming skills based on languages like Python or Java\n",
    "+ [Processing](https://processing.org) (interactive programming language), in this lecture it is used to run software for data acquisition\n",
    "+ A basic understanding of existing HCI models (e.g., Fitts' law)\n",
    "+ Knowledge of basic optimization and model fitting techniques (i.e., using Python or Matlab)"
   ]
  },
  {
   "cell_type": "markdown",
   "metadata": {
    "slideshow": {
     "slide_type": "slide"
    }
   },
   "source": [
    "#### Primary sources\n",
    "\n",
    "1. Lee, Byungjoo, and Antti Oulasvirta. \"[Modelling error rates in temporal pointing](http://files.cargocollective.com/611692/lee2016modelling.pdf).\" Proceedings of the 2016 CHI Conference on Human Factors in Computing Systems. ACM, 2016.\n",
    "\n",
    "2. Lee, Byungjoo, et al. \"[Moving target selection: A cue integration model](https://files.cargocollective.com/707219/pn2399-leeA--1-.pdf).\" Proceedings of the 2018 CHI Conference on Human Factors in Computing Systems. ACM, 2018.\n",
    "\n",
    "3. Lee, Injung, Sunjun Kim, and Byungjoo Lee. \"[Geometrically Compensating Effect of End-to-End Latency in Moving-Target Selection Games](https://files.cargocollective.com/611692/paper560--1-.pdf).\" Proceedings of the 2019 CHI Conference on Human Factors in Computing Systems. ACM, 2019.\n",
    "\n",
    "4. Vorberg, Dirk, and Alan Wing. \"Modeling variability and dependence in timing.\" Handbook of perception and action. Vol. 2. Academic Press, 1996. 181-262.\n",
    "\n",
    "5. Wing, Alan M., and Alfred B. Kristofferson. \"Response delays and the timing of discrete motor responses.\" Perception & Psychophysics 14.1 (1973): 5-12."
   ]
  },
  {
   "cell_type": "markdown",
   "metadata": {
    "slideshow": {
     "slide_type": "slide"
    }
   },
   "source": [
    "## 2. Wing-Kristofferson Model\n",
    "\n",
    "In synchronized interactions, users should perform movements in accurate and precise timing. The Wing-Kristofferson (WK) Model (1973) successfully describes the process in which humans plan and execute timing-critical movements. "
   ]
  },
  {
   "cell_type": "markdown",
   "metadata": {
    "slideshow": {
     "slide_type": "slide"
    }
   },
   "source": [
    "### Target task: unpaced repetitive tapping\n",
    "In this task, a person must repeat tapping at a fixed rate. The task is carried out in the following process:\n",
    "\n",
    "1. A blinking visual or auditory stimulus with a specific time period (T) is given to the person.\n",
    "2. In this case, the duration from when the stimulus is turned on until when it is turned off is set to be very short (about 10 ms).\n",
    "3. The person performs tapping synchronized to the stimulus (i.e., paced tapping).\n",
    "4. After a certain number of synchronized tapping (24 times), the stimulus disappears.\n",
    "5. Even after the stimulus has disappeared, the person repeats tapping a certain number of times (30 times) at the same rate (i.e., unpaced tapping).\n",
    "6. The WK model deals with data obtained from unpaced tapping.\n",
    "\n",
    "![f2](figures/f2.png)"
   ]
  },
  {
   "cell_type": "markdown",
   "metadata": {
    "slideshow": {
     "slide_type": "slide"
    }
   },
   "source": [
    "<div class=\"alert alert-block alert-warning\">\n",
    "    <h3>Demonstration</h3>\n",
    "Unpaced tapping implemented with Processing\n",
    "    <br>\n",
    "    See \"applications/unpaced_tapping<br>\n",
    "    Tapping periods: 300, 500, 700, 900, and 1100 ms\n",
    "    <br>\n",
    "    Tappings per condition: 54 (30 unpaced tapping)\n",
    "    <br>\n",
    "    <br>\n",
    "    Note 1: do not skip once you start, and do not try to press multiple times on a blinking.\n",
    "    <br>\n",
    "    Note 2: do not split the rhythm in your mind or divide the rhythm with your hands or arms.\n",
    "    <br>\n",
    "    Note 3: Select one button on the keyboard to perform the task, but do not change the button while performing the task.\n",
    "    <br>\n",
    "    Note 4: Your data is logged in the data.txt file in the same folder. The data that the lecturer has already done is logged in the data_blee.txt file.\n",
    "    <br>\n",
    "    \n",
    "</div>"
   ]
  },
  {
   "cell_type": "markdown",
   "metadata": {
    "slideshow": {
     "slide_type": "slide"
    }
   },
   "source": [
    "### Two-process mechanism\n",
    "\n",
    "The WK model assumes that unpaced tapping is performed with a two-process mechanism. The mechanism consists of two processes:\n",
    "+ the internal clock generates a trigger pulse, which starts a motor response.\n",
    "+ The pulses of the internal clock are generated periodically.\n",
    "+ The motor response has a delay (including neuromuscular transmission lags, movement time, and etc).\n",
    "\n",
    "![f3](figures/f3.png)"
   ]
  },
  {
   "cell_type": "markdown",
   "metadata": {
    "slideshow": {
     "slide_type": "slide"
    }
   },
   "source": [
    "This mechanism can be further represented by the following diagram:\n",
    "\n",
    "![f4](figures/f4.png)\n",
    "\n",
    "At this time, the j<sup>th</sup> inter-response interval (I<sub>j</sub>) can be written as:\n",
    "\n",
    "\\begin{equation}\n",
    "I_{j}=C_{j}-D_{j-1}+D_{j}\n",
    "\\end{equation}"
   ]
  },
  {
   "cell_type": "markdown",
   "metadata": {
    "slideshow": {
     "slide_type": "slide"
    }
   },
   "source": [
    "\\begin{equation}\n",
    "I_{j}=C_{j}-D_{j-1}+D_{j}\n",
    "\\end{equation}\n",
    "\n",
    "The following equation holds:\n",
    "\n",
    "\\begin{equation}\n",
    "\\mu_{I}=\\mu_{C}\n",
    "\\end{equation}\n",
    "#### Assumption\n",
    "\n",
    "+ C and D are **independent** random variables with means, μ<sub>C</sub> and μ<sub>D</sub>, and variances, σ<sup>2</sup><sub>C</sub> and σ<sup>2</sup><sub>D</sub>, respectively\n",
    "\n"
   ]
  },
  {
   "cell_type": "markdown",
   "metadata": {
    "slideshow": {
     "slide_type": "slide"
    }
   },
   "source": [
    "#### What is possible with this model?\n",
    "\n",
    "Based on this model, we can determine from the tapping data the variance of the pulse generated by the internal clock σ<sup>2</sup><sub>C</sub>  and the variance of the motor response delay σ<sup>2</sup><sub>D</sub>, separately."
   ]
  },
  {
   "cell_type": "markdown",
   "metadata": {
    "slideshow": {
     "slide_type": "slide"
    }
   },
   "source": [
    "#### Basic definitions\n",
    "\n",
    "In order to obtain the variance of the internal clock (σ<sup>2</sup><sub>C</sub>) and the variance of the motor delay (σ<sup>2</sup><sub>D</sub>) from the tapping IRIs through the WK model, several basic concepts need to be defined:\n",
    "\n",
    "+ Covariance between two random variables X and Y:\n",
    "\\begin{align}\n",
    "Cov(X,Y)&=E[(X-E[X])(Y-E[Y])]\\\\\n",
    "Cov(X,Y)&=0 \\, \\, \\, \\, \\text{(when two random variables are independent to each other)}\n",
    "\\end{align}\n",
    "\n",
    "+ Variance of random variable X:\n",
    "\\begin{equation}\n",
    "Var(X)=E[(X-E[X])^2]=Cov(X,X)\n",
    "\\end{equation}\n",
    "\n",
    "+ Distributivity of covariance: \n",
    "\\begin{align}\n",
    "U&=aW+bX\\\\\n",
    "V&=cY+dZ\\\\\n",
    "Cov(U,V)&=Cov(aW+bX,cY+dZ)\\\\\n",
    "&=ac\\cdot Cov(W,Y) + ad\\cdot Cov(W,Z)+bc\\cdot Cov(X,Y)+bd\\cdot Cov(W,Z)\n",
    "\\end{align}\n",
    "\n",
    "\n",
    "\n"
   ]
  },
  {
   "cell_type": "markdown",
   "metadata": {
    "slideshow": {
     "slide_type": "slide"
    }
   },
   "source": [
    "#### Data analysis\n",
    "\n",
    "From these definitions, we can obtain the lag-one covariance and the lag-zero covariance of the measured IRI as follows:\n",
    "\n",
    "\\begin{align}\n",
    "Cov(I_{j},I_{j-1})&=E[(I_{j}-\\mu_{I})(I_{j-1}-\\mu_{I})]; j= ..., -1, 0, +1, ...\\\\\n",
    "&=E[(C_{j}-D_{j-1}+D_{j}-\\mu_{I})\\cdot (C_{j-1}-D_{j-2}+D_{j-1}-\\mu_{I})]\\\\\n",
    "&=-\\sigma^{2}_{D}\n",
    "\\end{align}\n",
    "\n",
    "\\begin{align}\n",
    "Cov(I_{j},I_{j})&=E[(I_{j}-\\mu_{I})(I_{j}-\\mu_{I})]\\\\\n",
    "&=E[(C_{j}-D_{j-1}+D_{j}-\\mu_{I})\\cdot (C_{j}-D_{j-1}+D_{j}-\\mu_{I})]\\\\\n",
    "&=\\sigma_{C}^{2}+2 \\sigma_{D}^{2}\n",
    "\\end{align}"
   ]
  },
  {
   "cell_type": "markdown",
   "metadata": {
    "slideshow": {
     "slide_type": "slide"
    }
   },
   "source": [
    "Therefore, the variance of the internal clock and the variance of the motor delay can be calculated from the tapping data as follows:\n",
    "\n",
    "\\begin{align}\n",
    "\\sigma_{C}^{2}&=Cov(I_{j},I_{j})+2Cov(I_{j},I_{j-1})\\\\\n",
    "\\sigma_{D}^{2}&=-Cov(I_{j},I_{j-1})\n",
    "\\end{align}"
   ]
  },
  {
   "cell_type": "markdown",
   "metadata": {
    "slideshow": {
     "slide_type": "slide"
    }
   },
   "source": [
    "<div class=\"alert alert-block alert-warning\">\n",
    "    <h3>Demonstration</h3>\n",
    "Let's interpret your unpaced tapping data based on the WK model.\n",
    "</div>"
   ]
  },
  {
   "cell_type": "code",
   "execution_count": 10,
   "metadata": {
    "scrolled": true,
    "slideshow": {
     "slide_type": "slide"
    }
   },
   "outputs": [
    {
     "data": {
      "text/plain": [
       "<matplotlib.legend.Legend at 0x1231a5dd0>"
      ]
     },
     "execution_count": 10,
     "metadata": {},
     "output_type": "execute_result"
    },
    {
     "data": {
      "image/png": "[encoded data removed]",
      "text/plain": [
       "<Figure size 432x288 with 2 Axes>"
      ]
     },
     "metadata": {
      "needs_background": "light"
     },
     "output_type": "display_data"
    }
   ],
   "source": [
    "import pandas as pd \n",
    "import matplotlib\n",
    "import matplotlib.pyplot as plt\n",
    "import numpy as np\n",
    "from scipy import stats # for normality test\n",
    "\n",
    "# read data file from blinking task Processing sketch\n",
    "data = pd.read_csv(\"applications/unpaced_tapping/data_blee.txt\", sep=',',header=None)\n",
    "\n",
    "# column 0 = condition, column 1 = trial, column 2 = period of blinking (ms), column 4 = inter-response interval (IRI) (ms)\n",
    "\n",
    "def autocovariance(data, N, k, mean):  # (data, length of the data, lag, mean of the data)\n",
    "    autoCov = 0\n",
    "    for j in range(0, N-k):\n",
    "        autoCov = autoCov+ ((data.iloc[j+k])-mean)*(data.iloc[j]-mean)\n",
    "    \n",
    "    return (autoCov/(N-1))\n",
    "\n",
    "clock_variance=[]\n",
    "clock_std=[]\n",
    "motor_variance=[]\n",
    "mean_IRI=[]\n",
    "for i in range(0, max(data.iloc[:,0])+1):\n",
    "    selected_condition=(data.iloc[:, 0]==i)&(data.iloc[:, 1]>24) # only last 30 trials\n",
    "    selected_input_data=data.loc[selected_condition, 4]\n",
    "    mu=np.average(selected_input_data)\n",
    "    mean_IRI.append(mu)\n",
    "    gamma_one=autocovariance(selected_input_data, 30, 1, mu)\n",
    "    gamma_zeros=autocovariance(selected_input_data, 30, 0, mu)    \n",
    "    clock_variance.append(gamma_zeros+2*gamma_one)\n",
    "    clock_std.append(np.sqrt(gamma_zeros+2*gamma_one))\n",
    "    motor_variance.append(-gamma_one)\n",
    "\n",
    "plt.subplot(121)\n",
    "plt.xlabel('Mean IRI')\n",
    "plt.ylabel('Variance')\n",
    "plt.plot(mean_IRI,clock_variance,'*')\n",
    "plt.plot(mean_IRI,motor_variance,'*')\n",
    "plt.legend(['Internal clock','Motor delay'])\n",
    "\n",
    "plt.subplot(122)\n",
    "plt.plot(mean_IRI,clock_std,'*')\n",
    "plt.xlabel('Mean IRI')\n",
    "plt.ylabel('Standard Deviation')\n",
    "plt.tight_layout()\n",
    "plt.legend(['Internal clock'])"
   ]
  },
  {
   "cell_type": "markdown",
   "metadata": {
    "slideshow": {
     "slide_type": "slide"
    }
   },
   "source": [
    "#### Findings\n",
    "\n",
    "+ The standard deviation of the internal clock increases proportionally with IRI (i.e., **scalar property** of internal clock)\n",
    "+ Relatively constant variance of motor delay\n",
    "+ The influence of variability in the response delays plays a less significant role at longer interresponse intervals"
   ]
  },
  {
   "cell_type": "markdown",
   "metadata": {
    "slideshow": {
     "slide_type": "slide"
    }
   },
   "source": [
    "<div class=\"alert alert-block alert-success\">\n",
    "    <h3>Question</h3>\n",
    "Could you tell me what the result of analyzing your own data is?\n",
    "</div>"
   ]
  },
  {
   "cell_type": "markdown",
   "metadata": {
    "slideshow": {
     "slide_type": "slide"
    }
   },
   "source": [
    "#### Original figures from Wing's paper (1973):\n",
    "\n",
    "![f5](figures/f5.png)"
   ]
  },
  {
   "cell_type": "markdown",
   "metadata": {
    "slideshow": {
     "slide_type": "slide"
    }
   },
   "source": [
    "#### HCI and WK model\n",
    "\n",
    "The WK model describes the mechanism by which humans perform timing-critical movements, but it is difficult to apply to HCI.\n",
    "\n",
    "+ The WK model deals only with the impulsive stimulus. However, the time constraints given to users in applications such as games and music are given as finite durations that are not considered impulses.\n",
    "+ The WK model does not address multimodal stimuli that are common in HCI. For example, cues that allow the user to determine the timing of input can be given differently as visual and auditory stimuli."
   ]
  },
  {
   "cell_type": "markdown",
   "metadata": {
    "slideshow": {
     "slide_type": "slide"
    }
   },
   "source": [
    "## 3. Temporal Pointing\n",
    "\n",
    "+ Temporal pointing is the **time version of the pointing task** we are familiar with.\n",
    "+ In this lecture, the existing pointing task is called *spatial pointing* to distinguish it from the temporal pointing task.\n",
    "+ Temporal pointing is the most basic task given in synchronized interaction."
   ]
  },
  {
   "cell_type": "markdown",
   "metadata": {
    "slideshow": {
     "slide_type": "slide"
    }
   },
   "source": [
    "### Temporal targets\n",
    "\n",
    "Every pointing task gives the user a target that must be acquired with some effort. In spatial pointing, the target is given in space (i.e., spatial target), but in temporal pointing the target is given in time (i.e., temporal target). The temporal target is defined from two values:\n",
    "\n",
    "+ Temporal distance (D <sub>t</sub>): the user's <span style=\"color:red\">*perception*</span> of the time remaining until the moment the target becomes selectable (typical unit: milliseconds)\n",
    "+ Temporal width: (W <sub>t</sub>) the <span style=\"color:red\">*perceived*</span> duration from when the target becomes selectable until it becomes non-selectable (typical unit: milliseconds)\n",
    "+ If the user raises an input event when the target is selectable, the trial is considered successful, otherwise it is considered a failure.\n",
    "\n",
    "![f2](figures/figure2.png)"
   ]
  },
  {
   "cell_type": "markdown",
   "metadata": {
    "slideshow": {
     "slide_type": "slide"
    }
   },
   "source": [
    "<div class=\"alert alert-block alert-success\">\n",
    "    <h3>Question</h3>\n",
    "What were the examples of temporal targets you have experienced?\n",
    "</div>"
   ]
  },
  {
   "cell_type": "markdown",
   "metadata": {
    "slideshow": {
     "slide_type": "slide"
    }
   },
   "source": [
    "### Implementation of temporal targets\n",
    "\n",
    "Temporal targets can be implemented in two ways, either explicitly or implicitly:\n",
    "\n",
    "+ Explicit implementation of temporal target: the user can perceive the distance and size of the temporal target when the target is repeatedly displayed through a specific sensory modality (i.e., a blinking target)\n",
    "+ Implicit implementation of temporal target: Given a continuous sensory stimulus that indirectly indicates when the target becomes selectable, the user can perceive the size and distance of the temporal target (i.e., a moving target)\n",
    "\n",
    "![f3](figures/figure3.png)"
   ]
  },
  {
   "cell_type": "markdown",
   "metadata": {
    "slideshow": {
     "slide_type": "slide"
    }
   },
   "source": [
    "<div class=\"alert alert-block alert-warning\">\n",
    "    <h3>Demonstration</h3>\n",
    "Let's run two types of temporal tasks implemented in Processing.\n",
    "    <br>\n",
    "    See \"applications/blinking\" and \"applications/moving\"<br>\n",
    "    <br>\n",
    "    Each experiment consists of 6 conditions and requires about 50 button inputs per condition.\n",
    "    <br>\n",
    "        <br>\n",
    "    If you succeed in acquiring the target, you will be given the green feedback.\n",
    "    <br>\n",
    "     <br>\n",
    "    Note 1: do not skip targets once you start, and do not try to press multiple times on a blinking.\n",
    "    <br>\n",
    "    Note 2: do not split the rhythm in your mind or divide the rhythm with your hands or arms.\n",
    "</div>"
   ]
  },
  {
   "cell_type": "markdown",
   "metadata": {
    "slideshow": {
     "slide_type": "slide"
    }
   },
   "source": [
    "<div class=\"alert alert-block alert-success\">\n",
    "    <h3>Question</h3>\n",
    "    What factors influence the acquisition difficulty of the temporal target?<br>\n",
    "        What are the limitations of task applications implemented with Processing?\n",
    "</div>"
   ]
  },
  {
   "cell_type": "markdown",
   "metadata": {
    "slideshow": {
     "slide_type": "slide"
    }
   },
   "source": [
    "+ Uncontrolled hardware latency affects temporal pointing experiments, which considers precise timing.\n",
    "+ The Arduino-controlled LED can create an almost zero latency temporal pointing experiment environment.\n",
    "+ The project is open source and you can get the code and description by going to this [link](https://github.com/SunjunKim/CueIntegrationDevicehttps://github.com/SunjunKim/CueIntegrationDevice).\n",
    "+ You can also watch the operation video of the device [here](figures/MTSapparatus_video.mov)."
   ]
  },
  {
   "cell_type": "markdown",
   "metadata": {
    "slideshow": {
     "slide_type": "slide"
    }
   },
   "source": [
    "### Mechanism of temporal pointing\n",
    "From a given sensory stimulus, **the user perceives temporal distance (D<sub>t</sub>) and temporal width (W<sub>t</sub>)**. Based on the perceived values, the user's internal clock generates pulses that trigger input motion. From there, an input motion is performed and it is delivered to the computer as a discrete event through the input device (i.e., a button). Feedback from the system then affects the user's perception of D<sub>t</sub> and W<sub>t</sub>. This process can be represented by the following diagram:\n",
    "![f6](figures/f6.png)"
   ]
  },
  {
   "cell_type": "markdown",
   "metadata": {
    "slideshow": {
     "slide_type": "slide"
    }
   },
   "source": [
    "### Performance metric in temporal pointing task\n",
    "As Fitts' law predicts the trial completion time, which is the main performance metric in spatial pointing, the temporal pointing models introduced in this course predict the error rate, the main performance metric of temporal pointing:\n",
    "\n",
    "| Type of pointing task    | Performance metric|\n",
    "|:----------------|:------------------------------------------------------------------------------------------------|\n",
    "| Spatial pointing | Mean trial completion time|\n",
    "| Temporal pointing | Error rates |\n",
    "\n",
    "The distribution of user inputs in temporal pointing is Gaussian in time. The error rate is the ratio of inputs performed outside the temporal target in the distribution.\n",
    "\n",
    "![f8](figures/figure8.png)"
   ]
  },
  {
   "cell_type": "markdown",
   "metadata": {
    "slideshow": {
     "slide_type": "slide"
    }
   },
   "source": [
    "<div class=\"alert alert-block alert-warning\">\n",
    "    <h3>Demonstration</h3>\n",
    "Let's examine the normality of your temporal pointing data.\n",
    "</div>\n",
    "\n",
    "![f17](figures/f17.png)"
   ]
  },
  {
   "cell_type": "code",
   "execution_count": 16,
   "metadata": {
    "slideshow": {
     "slide_type": "slide"
    }
   },
   "outputs": [
    {
     "name": "stdout",
     "output_type": "stream",
     "text": [
      "KstestResult(statistic=0.08721953635290813, pvalue=0.8413783343794385)\n",
      "KstestResult(statistic=0.09309733369114515, pvalue=0.7917929920532994)\n",
      "KstestResult(statistic=0.1534214844526396, pvalue=0.17112880544551445)\n",
      "KstestResult(statistic=0.14127569769206227, pvalue=0.2472713673976497)\n",
      "KstestResult(statistic=0.14370649939866303, pvalue=0.23026809930157205)\n",
      "KstestResult(statistic=0.1488849519397109, pvalue=0.19704566071688936)\n"
     ]
    },
    {
     "data": {
      "image/png": "[encoded data removed]",
      "text/plain": [
       "<Figure size 432x288 with 1 Axes>"
      ]
     },
     "metadata": {
      "needs_background": "light"
     },
     "output_type": "display_data"
    }
   ],
   "source": [
    "### Normality test for blinking target data\n",
    "import pandas as pd \n",
    "import matplotlib\n",
    "import matplotlib.pyplot as plt\n",
    "from scipy import stats # for normality test\n",
    "\n",
    "# read data file from blinking task Processing sketch\n",
    "# column 0 = condition, column 1 = trial, column 2 = period of blinking (ms), column 3 = temporal width (ms) ,column 4 = user input timing (ms), column 5 = success (1) fail (0)\n",
    "\n",
    "data = pd.read_csv(\"applications/blinking/data_blee.txt\", sep=',',header=None)\n",
    "\n",
    "# without shifting undershoot trials (blue)\n",
    "plt.hist(data.iloc[:, 4],bins=100)\n",
    "\n",
    "# shifting undershoot trials\n",
    "undershoots=data.iloc[:, 4]>data.iloc[:, 2]/2.0\n",
    "data.loc[undershoots,4]=data.loc[undershoots,4]-data.loc[undershoots,2]\n",
    "\n",
    "# after shifting undershoot trials (orange)\n",
    "plt.hist(data.iloc[:, 4],bins=100)\n",
    "plt.title('Input Distribution (Histogram)')\n",
    "plt.xlabel('Time (ms)')\n",
    "\n",
    "# normality test (Shapiro–Wilk test)\n",
    "for i in range(0, max(data.iloc[:,0])+1):\n",
    "    selected_condition=(data.iloc[:, 0]==i)\n",
    "    selected_input_data=data.loc[selected_condition, 4]\n",
    "    print(stats.kstest((selected_input_data-selected_input_data.mean())/selected_input_data.std(), 'norm')) # standardization\n",
    "\n"
   ]
  },
  {
   "cell_type": "code",
   "execution_count": 12,
   "metadata": {
    "slideshow": {
     "slide_type": "slide"
    }
   },
   "outputs": [
    {
     "name": "stdout",
     "output_type": "stream",
     "text": [
      "KstestResult(statistic=0.23576624155275278, pvalue=0.00628071288446664)\n",
      "KstestResult(statistic=0.17307170429171087, pvalue=0.08846373892747439)\n",
      "KstestResult(statistic=0.137940639228455, pvalue=0.27212532514902865)\n",
      "KstestResult(statistic=0.10219643032488102, pvalue=0.6588728961080375)\n",
      "KstestResult(statistic=0.11872040936053768, pvalue=0.45214522756238523)\n",
      "KstestResult(statistic=0.10188600933202885, pvalue=0.6631993120450362)\n"
     ]
    },
    {
     "data": {
      "image/png": "[encoded data removed]",
      "text/plain": [
       "<Figure size 432x288 with 1 Axes>"
      ]
     },
     "metadata": {
      "needs_background": "light"
     },
     "output_type": "display_data"
    }
   ],
   "source": [
    "### Normality test for moving target data\n",
    "import pandas as pd \n",
    "import matplotlib\n",
    "import matplotlib.pyplot as plt\n",
    "from scipy import stats # for normality test\n",
    "\n",
    "# read data file from moving task Processing sketch\n",
    "# column 0 = condition, column 1= trial, column 2 = period of appearing (ms), column 3 = temporal width (ms), \n",
    "# column 4 = cue viewing time (ms), column 5 = user input timing, column 6 = success (1) fail (0), \n",
    "# column 7 = width of the display, column 8 = height of the display\n",
    "\n",
    "data = pd.read_csv(\"applications/moving/data_blee.txt\", sep=',',header=None)\n",
    "\n",
    "# without shifting overshoot trials (blue)\n",
    "plt.hist(data.iloc[:, 5],bins=100)\n",
    "\n",
    "# shifting overshoot rials\n",
    "overshoots=data.iloc[:, 5]<data.iloc[:, 7]/2.0\n",
    "data.loc[overshoots,5]=data.loc[overshoots,5]+data.loc[overshoots,7]\n",
    "\n",
    "# after shifting undershoot trials (orange)\n",
    "plt.hist(data.iloc[:, 5],bins=100)\n",
    "plt.title('Input Distribution (Histogram)')\n",
    "plt.xlabel('Time (ms)')\n",
    "\n",
    "# normality test (Shapiro–Wilk test)\n",
    "for i in range(0, max(data.iloc[:,0])+1):\n",
    "    selected_condition=(data.iloc[:, 0]==i)\n",
    "    selected_input_data=data.loc[selected_condition, 5]\n",
    "    print(stats.kstest((selected_input_data-selected_input_data.mean())/selected_input_data.std(), 'norm')) # standardization\n"
   ]
  },
  {
   "cell_type": "markdown",
   "metadata": {
    "slideshow": {
     "slide_type": "slide"
    }
   },
   "source": [
    "### Modeling user performance in temporal pointing\n",
    "\n",
    "+ Temporal pointing models basically predict the mean (μ) and standard deviation (σ) of the input distribution under given stimulus conditions.\n",
    "+ From this predicted input distribution, the user's error rate can also be predicted\n",
    "+ This lecture introduces the temporal pointing model for (1) blinking-target selection task and (2) moving-target selection task.\n",
    "\n",
    "![f7](figures/f7.png)"
   ]
  },
  {
   "cell_type": "markdown",
   "metadata": {
    "slideshow": {
     "slide_type": "slide"
    }
   },
   "source": [
    "## 4. Blinking-target selection model\n",
    "\n",
    "A blinking target is the most basic example of a temporal target. This section introduces a model that describes the user's input distribution and error rate in the temporal pointing task of selecting a blinking target."
   ]
  },
  {
   "cell_type": "markdown",
   "metadata": {
    "slideshow": {
     "slide_type": "slide"
    }
   },
   "source": [
    "### Task variables\n",
    "\n",
    "+ P: period of blinking\n",
    "+ B: duration of blinking\n",
    "\n",
    "![f8](figures/f8.png)"
   ]
  },
  {
   "cell_type": "markdown",
   "metadata": {
    "slideshow": {
     "slide_type": "slide"
    }
   },
   "source": [
    "### Reminder: temporal distance and temporal width\n",
    "\n",
    "+ Temporal distance (D <sub>t</sub>): the user's <span style=\"color:red\">*perception*</span> of the time remaining until the moment the target becomes selectable (typical unit: milliseconds)\n",
    "+ Temporal width: (W <sub>t</sub>) the <span style=\"color:red\">*perceived*</span> duration from when the target becomes selectable until it becomes non-selectable (typical unit: milliseconds)\n",
    "\n",
    "![f2](figures/figure2.png)"
   ]
  },
  {
   "cell_type": "markdown",
   "metadata": {
    "slideshow": {
     "slide_type": "slide"
    }
   },
   "source": [
    "### Mean perception of temporal distance and temporal width\n",
    "We assume the user's unbiased perceptions:\n",
    "\n",
    "+ Mean perception of temporal distance (D<sub>t</sub>):\n",
    "    \\begin{equation}\n",
    "        M[D_{t}]=P\n",
    "    \\end{equation}\n",
    "+ Mean perception of temporal width (W<sub>t</sub>):\n",
    "    \\begin{equation}\n",
    "        M[W_{t}]=B\n",
    "    \\end{equation}"
   ]
  },
  {
   "cell_type": "markdown",
   "metadata": {
    "slideshow": {
     "slide_type": "slide"
    }
   },
   "source": [
    "### Standard deviation (i.e., reliability) of perceived temporal distance and temporal width\n",
    "+ Standard deviation of perceived temporal distance (D<sub>t</sub>):\n",
    "    \\begin{equation}\n",
    "        SD[D_{t}]\\propto M[D_{t}] \\propto P \\, \\, \\, \\, \\text{(i.e., scalar property of the internal clock)}\n",
    "    \\end{equation}\n",
    "+ Standard deviation of perceived temporal width (W<sub>t</sub>):\n",
    "    \\begin{equation}\n",
    "       SD[ W_{t}]\\sim 0 \\, \\, \\, \\, \\text{(when compared to the reliability of the perceived temporal distance)}\n",
    "    \\end{equation}"
   ]
  },
  {
   "cell_type": "markdown",
   "metadata": {
    "slideshow": {
     "slide_type": "slide"
    }
   },
   "source": [
    "### Implicit aim point of the user\n",
    "Perception of temporal width and temporal distance allows the user to perform input. But the user has to decide one more thing. It is to determine what moment to aim within the perceived temporal width.\n",
    "\n",
    "+ The implicit aim point is the point at which the user is aiming within the temporal width and where the mean of the input distribution is located.\n",
    "+ The aim point is defined as the ratio relative to W<sub>t</sub>. \n",
    "+ For example, if the perceived temporal width is 100 ms and the mean of the input distribution is located at 25 ms, the implicit aim point is 0.25.\n",
    "![f18](figures/f18.png)"
   ]
  },
  {
   "cell_type": "markdown",
   "metadata": {
    "slideshow": {
     "slide_type": "slide"
    }
   },
   "source": [
    "### Modeling the input distribution\n",
    "\n",
    "The input distribution of the user is Gaussian in time. Let R(t) be the input distribution. The moment when the target is turned on is defined as *t*=0. Then the mean of R(t) can be considered to be μ apart from the moment the target is turned on: \n",
    "\n",
    "![f12](figures/figure12.png)\n",
    "\n",
    "Furthermore, given the standard deviation of the input distribution as σ, R (t) can be expressed as:\n",
    "\n",
    "\\begin{equation}\n",
    "R(t|\\mu ,\\sigma )=\\frac{1}{\\sigma \\sqrt{2\\pi }}e^{\\frac{-(t-\\mu)^2}{2\\sigma ^2}}\n",
    "\\end{equation}"
   ]
  },
  {
   "cell_type": "markdown",
   "metadata": {
    "slideshow": {
     "slide_type": "slide"
    }
   },
   "source": [
    "### Modeling the input distribution\n",
    "Things we have:\n",
    "+ The mean and standard deviation of temporal distance and temporal width perceived by the user\n",
    "+ User's implicit aim point\n",
    "\n",
    "The values we must express with the above things:\n",
    "+ Mean (μ) and standard deviation (σ) of input distribution"
   ]
  },
  {
   "cell_type": "markdown",
   "metadata": {
    "slideshow": {
     "slide_type": "slide"
    }
   },
   "source": [
    "### Assumptions for determining σ and μ of the input distribution\n",
    "\n",
    "+ Motor noise that makes a negligible contribution to the standard deviation of the input distribution (i.e., sufficiently long P with very short input movement)\n",
    "+ The user's constant implicit aim point, which does not vary with W<sub>t</sub>. For example, if the user intends an aim point of 0.25, it means that the mean (μ) of Gaussian is located at 25 ms when W<sub>t</sub> is 100 ms and at 50 ms when W<sub>t</sub> is 200 ms.\n",
    "![f9](figures/f9.png)"
   ]
  },
  {
   "cell_type": "markdown",
   "metadata": {
    "slideshow": {
     "slide_type": "slide"
    }
   },
   "source": [
    "<div class=\"alert alert-block alert-success\">\n",
    "    <h3>Question</h3>\n",
    "    Discuss cases where these assumptions may not hold\n",
    "</div>"
   ]
  },
  {
   "cell_type": "markdown",
   "metadata": {
    "slideshow": {
     "slide_type": "slide"
    }
   },
   "source": [
    "### Mean (μ) of input distribution\n",
    "+ From the assumption of the user's constant implicit aim point, the mean (μ) of the input distribution is expressed as:\n",
    "\\begin{equation}\n",
    "    \\mu = c_{\\mu} \\cdot W_{t} = c_{\\mu} \\cdot B\n",
    "\\end{equation}\n",
    "+ c<sub>μ</sub> is a value indicating the implicit aim point of the user.\n",
    "+ Reminder: B represents the duration of the target blinking\n"
   ]
  },
  {
   "cell_type": "markdown",
   "metadata": {
    "slideshow": {
     "slide_type": "slide"
    }
   },
   "source": [
    "### Standard deviation (σ) of input distribution\n",
    "+ From the negligible motor noise, the standard deviation (σ) of the input distribution can be expressed as:\n",
    "\\begin{equation}\n",
    "    \\sigma \\sim SD[D_{t}] = c_{\\sigma} \\cdot P\n",
    "\\end{equation}\n",
    "+ c<sub>σ</sub> is a proportional constant representing the relationship between standard deviation and P.\n",
    "+ Reminder: P represents the period of the target blinking"
   ]
  },
  {
   "cell_type": "markdown",
   "metadata": {
    "slideshow": {
     "slide_type": "slide"
    }
   },
   "source": [
    "### Final input distribution\n",
    "The input distribution R (t) was previously expressed as:\n",
    "\n",
    "\\begin{equation}\n",
    "R(t|\\mu ,\\sigma )=\\frac{1}{\\sigma \\sqrt{2\\pi }}e^{\\frac{-(t-\\mu)^2}{2\\sigma ^2}}\n",
    "\\end{equation}\n",
    "\n",
    "Plugging $\\sigma$ and $\\mu$ into R(t), we obtain a function for response distribution:\n",
    "\\begin{equation}\n",
    "R(t|B,P)=\\frac{1}{c_{\\sigma}P \\sqrt{2\\pi }}e^{\\frac{-(t-c_{\\mu} \\cdot B)^2}{2 (c_{\\sigma} \\cdot P) ^2}}\n",
    "\\end{equation}"
   ]
  },
  {
   "cell_type": "markdown",
   "metadata": {
    "slideshow": {
     "slide_type": "slide"
    }
   },
   "source": [
    "### Input error rates\n",
    "We can now calculate error rate (E) by subtracting the hit area from the total area in the distribution:\n",
    "\\begin{equation}\n",
    "\\begin{aligned}\n",
    "E&(B, P) = 1-\\int_{0}^{B-\\mu} R(t)dt  - \\int_{0}^{\\mu} R(t)dt\\\\\n",
    "\t&=1-\\frac{1}{2}\\left[erf(\\frac{B-\\mu}{\\sigma\\sqrt{2}}) \t+erf(\\frac{\\mu}{\\sigma\\sqrt{2}})\\right]\\\\\n",
    "\t&=1-\\frac{1}{2}\\left[erf(\\frac{(1-c_{\\mu})}{c_{\\sigma}\\sqrt{2}}\\cdot \\frac{B}{P}) +erf(\\frac{c_{\\mu}}{c_{\\sigma}\\sqrt{2}}\\cdot \\frac{B}{P})\\right]\n",
    "\\end{aligned}\n",
    "\\end{equation} \n",
    "![f12](figures/figure12.png)"
   ]
  },
  {
   "cell_type": "markdown",
   "metadata": {
    "slideshow": {
     "slide_type": "slide"
    }
   },
   "source": [
    "where erf(t) is the (known) [error function](https://en.wikipedia.org/wiki/Error_function) encountered in integrating the normal distribution:\n",
    "\\begin{equation}\n",
    "erf(t)=\\frac{2}{\\sqrt{\\pi}}\\int_{0}^{t}e^{-t^2}dt\n",
    "\\label{eq:erf}\n",
    "\\end{equation}\n",
    "\n",
    "Note: Error function erf(t) should not be confused with error rate function (E) given above."
   ]
  },
  {
   "cell_type": "markdown",
   "metadata": {
    "slideshow": {
     "slide_type": "slide"
    }
   },
   "source": [
    "<div class=\"alert alert-block alert-success\">\n",
    "    <h3>Question</h3>\n",
    "    According to the model predictions, in what cases will the error rate of the user increase?\n",
    "</div>\n",
    "\\begin{equation}\n",
    "E(B, P) =1-\\frac{1}{2}\\left[erf(\\frac{(1-c_{\\mu})}{c_{\\sigma}\\sqrt{2}}\\cdot \\frac{B}{P}) +erf(\\frac{c_{\\mu}}{c_{\\sigma}\\sqrt{2}}\\cdot \\frac{B}{P})\\right]\n",
    "\\end{equation} "
   ]
  },
  {
   "cell_type": "markdown",
   "metadata": {
    "slideshow": {
     "slide_type": "slide"
    }
   },
   "source": [
    "### Index of difficulty (ID)\n",
    "\n",
    "In the blinking-target selection model obtained above, the error rate can also be calculated from a single dimensionless value. We call it the temporal index of difficulty (ID, unit: bits). ID can be defined in a manner similar to Fitts' law:\n",
    "\\begin{equation}\n",
    "ID = \\log_2(\\frac{P}{B})\n",
    "\\end{equation}\n",
    "\n",
    "We can compute E by using index of difficulty ID:\n",
    "\\begin{equation}\n",
    "E (ID) =1-\\frac{1}{2}\\left[erf(\\frac{(1-c_{\\mu})}{c_{\\sigma}2^{(ID+0.5)}})+erf(\\frac{c_{\\mu}}{c_{\\sigma}2^{(ID+0.5)}})\\right]\n",
    "\\end{equation} \n",
    "\n",
    "![f19](figures/f19.png)"
   ]
  },
  {
   "cell_type": "markdown",
   "metadata": {
    "slideshow": {
     "slide_type": "slide"
    }
   },
   "source": [
    "<div class=\"alert alert-block alert-success\">\n",
    "    <h3>Question</h3>\n",
    "    What are the advantages of being able to calculate the error rate from only the ID value?\n",
    "    <br>\n",
    "    Then, what are the limits?\n",
    "</div>"
   ]
  },
  {
   "cell_type": "markdown",
   "metadata": {
    "slideshow": {
     "slide_type": "slide"
    }
   },
   "source": [
    "<div class=\"alert alert-block alert-warning\">\n",
    "    <h3>Demonstration</h3>\n",
    "<br>Let's test the assumptions of the blinking target selection model based on your temporal pointing data.    <br><br>\n",
    "Let's fit the model to your temporal pointing error rates to obtain two free parameters of the model\n",
    "</div>"
   ]
  },
  {
   "cell_type": "code",
   "execution_count": 21,
   "metadata": {
    "slideshow": {
     "slide_type": "slide"
    }
   },
   "outputs": [
    {
     "data": {
      "image/png": "[encoded data removed]",
      "text/plain": [
       "<Figure size 432x288 with 2 Axes>"
      ]
     },
     "metadata": {
      "needs_background": "light"
     },
     "output_type": "display_data"
    }
   ],
   "source": [
    "# Validation of two assumptions: (1) scalar property of internal clock, (2) constant aimpoint\n",
    "\n",
    "import pandas as pd \n",
    "import matplotlib\n",
    "import matplotlib.pyplot as plt\n",
    "from scipy import stats # for normality test\n",
    "\n",
    "# read data file from blinking task Processing sketch\n",
    "# column 0 = condition, column 1 = trial, column 2 = period of blinking (ms), column 3 = temporal width (ms), column 4 = user input timing (ms), column 5 = success (1) fail (0)\n",
    "\n",
    "data = pd.read_csv(\"applications/blinking/data_blee.txt\", sep=',',header=None)\n",
    "\n",
    "# shifting undershoot trials\n",
    "undershoots=data.iloc[:, 4]>data.iloc[:, 2]/2.0\n",
    "data.loc[undershoots,4]=data.loc[undershoots,4]-data.loc[undershoots,2]\n",
    "\n",
    "unique_periods=pd.unique(data.iloc[:,2])\n",
    "unique_widths=pd.unique(data.iloc[:,3])\n",
    "\n",
    "standard_deviations=[]\n",
    "means=[]\n",
    "for i in range(0, unique_periods.__len__()):\n",
    "    selected_condition=(data.iloc[:,2]==unique_periods[i])\n",
    "    standard_deviations.append(data.loc[selected_condition, 4].std())\n",
    "\n",
    "for i in range(0, unique_widths.__len__()):\n",
    "    selected_condition=(data.iloc[:,3]==unique_widths[i])\n",
    "    means.append(data.loc[selected_condition, 4].mean())\n",
    "\n",
    "plt.subplot(1,2,1)\n",
    "plt.xlabel('Blinking Period (ms)')\n",
    "plt.ylabel('Standard Deviation of Input Distribution')\n",
    "plt.plot(unique_periods,standard_deviations, '*')\n",
    "plt.subplot(1,2,2)\n",
    "plt.xlabel('Blinking Duration (ms)')\n",
    "plt.ylabel('Mean of Input Distribution')\n",
    "plt.plot(unique_widths,means, '*')\n",
    "plt.tight_layout()\n"
   ]
  },
  {
   "cell_type": "code",
   "execution_count": 30,
   "metadata": {
    "slideshow": {
     "slide_type": "slide"
    }
   },
   "outputs": [
    {
     "name": "stdout",
     "output_type": "stream",
     "text": [
      "csigma=\n",
      "0.039944261002158976\n",
      "cmu=\n",
      "0.2564661952125805\n",
      "R2=\n",
      "0.820582580778611\n"
     ]
    },
    {
     "data": {
      "image/png": "[encoded data removed]",
      "text/plain": [
       "<Figure size 432x288 with 1 Axes>"
      ]
     },
     "metadata": {
      "needs_background": "light"
     },
     "output_type": "display_data"
    }
   ],
   "source": [
    "### Fitting model to the error rates of blinking target selection data\n",
    "import pandas as pd \n",
    "import numpy as np\n",
    "import matplotlib\n",
    "import matplotlib.pyplot as plt\n",
    "from scipy.optimize import curve_fit # curve fitting function\n",
    "from scipy.special import erf # error function\n",
    "\n",
    "# read data file from blinking task Processing sketch\n",
    "## column 0 = condition, column 1 = trial, column 2 = period of blinking (ms), column 3 = temporal width (ms), column 4 = user input timing (ms), column 5 = success (1) fail (0)\n",
    "\n",
    "data = pd.read_csv(\"applications/blinking/data_blee.txt\", sep=',',header=None)\n",
    "\n",
    "ID_t=np.log2(data.iloc[:,2].divide(data.iloc[:,3]))\n",
    "\n",
    "error_rates=[]\n",
    "ID_ts=[]\n",
    "\n",
    "for i in range(0, max(data.iloc[:,0])+1):\n",
    "    selected_condition=(data.iloc[:, 0]==i)\n",
    "    mean_ID_t=ID_t[selected_condition].mean()\n",
    "    ID_ts.append(mean_ID_t)\n",
    "    error_rates.append(1.0-data.loc[selected_condition, 5].mean())\n",
    "\n",
    "    \n",
    "def func(ID,csigma,cmu):\n",
    "    return (1 - (erf((1 - cmu)/csigma/np.exp2(ID+0.5))+ erf(cmu/csigma/np.exp2(ID + 0.5))) / 2)\n",
    "\n",
    "vfunc = np.vectorize(func) # vectorized function (allows element-wise function call)\n",
    "\n",
    "popt, pcov = curve_fit(func, ID_ts, error_rates)\n",
    "plt.plot(ID_ts, error_rates,'*')\n",
    "plt.plot(ID_ts,vfunc(ID_ts,popt[0], popt[1]),'r*')\n",
    "plt.xlabel('ID (bits)')\n",
    "plt.ylabel('Error rates')\n",
    "plt.legend(['Data', 'Model Fitting'])\n",
    "\n",
    "# obtaining R2 value of the fitting\n",
    "\n",
    "residuals = error_rates- vfunc(ID_ts,popt[0], popt[1])\n",
    "ss_res = np.sum(residuals**2) # residual sum of squares\n",
    "ss_tot = np.sum((error_rates-np.mean(error_rates))**2) # total sum of squares\n",
    "r_squared = 1 - (ss_res / ss_tot)\n",
    "\n",
    "print(\"csigma=\")\n",
    "print(popt[0])\n",
    "print(\"cmu=\")\n",
    "print(popt[1])\n",
    "print(\"R2=\")\n",
    "print(r_squared)"
   ]
  },
  {
   "cell_type": "markdown",
   "metadata": {
    "slideshow": {
     "slide_type": "slide"
    }
   },
   "source": [
    "<div class=\"alert alert-block alert-success\">\n",
    "    <h3>Question</h3>\n",
    "    Compare the parameters obtained from fittings with other students. Why does the difference occur?\n",
    "</div>"
   ]
  },
  {
   "cell_type": "markdown",
   "metadata": {
    "slideshow": {
     "slide_type": "slide"
    }
   },
   "source": [
    "#### Interpretation of parameters obtained from fittings\n",
    "The two parameters obtained from the fitting are interpreted as follows:\n",
    "\n",
    "+  c<sub>σ</sub>: This means the slope of the tendency of the standard deviation of the input distribution to increase in proportion to the temporal distance. The higher the value, the higher the standard deviation of the input distribution for the same blinking period. This value is estimated to be about 0.08 for the average person and about 0.06 for the people who have relatively more music education experience. \n",
    "+  c<sub>μ</sub>: This value indicates where the user is aiming within the temporal target. This value may also vary depending on the nature of the input device or the latency of the system. The closer to 0.5, the lower the error rate."
   ]
  },
  {
   "cell_type": "markdown",
   "metadata": {
    "slideshow": {
     "slide_type": "slide"
    }
   },
   "source": [
    "#### Resolving ambiguity of c<sub>μ</sub> in the model fitting\n",
    "\n",
    "+ There is ambiguity in model fitting because the input distribution is Gaussian, which is symmetric with respect to the mean.\n",
    "+ That is, there are two possibilities for fitting the same error rate data as shown in the figure below.\n",
    "+ For example, if the cmu value is fitted to 0.25, the actual cmu value may be 0.75:\n",
    "\n",
    "![f10](figures/f10.png)"
   ]
  },
  {
   "cell_type": "markdown",
   "metadata": {
    "slideshow": {
     "slide_type": "slide"
    }
   },
   "source": [
    "Here are some rules to resolve this ambiguity:\n",
    "\n",
    "+ Among the two possible c<sub>μ</sub> values, choose a value less than 0.5.\n",
    "+ If you want to be more certain, check where the mean value of the actual input distribution is located.\n",
    "\n",
    "The first method utilizes the phenomenon called negative mean asynchrony (NMA). This is the phenomenon that people tapping ahead of the actual tapping point when doing synchronized tapping. This is widely observed in tasks related to sensorimotor synchronization. Please refer to the following article for the reason why this phenomenon occurs.\n",
    "\n",
    "+ Vorberg, Dirk, and Alan Wing. \"Modeling variability and dependence in timing.\" Handbook of perception and action. Vol. 2. Academic Press, 1996. 181-262."
   ]
  },
  {
   "cell_type": "markdown",
   "metadata": {
    "slideshow": {
     "slide_type": "slide"
    }
   },
   "source": [
    "<div class=\"alert alert-block alert-success\">\n",
    "    <h3>Question</h3>\n",
    "Has anyone measured the cmu value greater than 0.5?\n",
    "</div>"
   ]
  },
  {
   "cell_type": "markdown",
   "metadata": {
    "slideshow": {
     "slide_type": "slide"
    }
   },
   "source": [
    "#### Application: evaluation of input device performance\n",
    "\n",
    "+ The reliability of the temporal distance perceived by the user is affected by the quality of the given sensory signal.\n",
    "+ The sensory signals are given from the target itself, input devices, system feedback, and the like.\n",
    "+ If the quality of the sensory signal is low, the user's c<sub>σ</sub> is measured high.\n",
    "+ This allows us to compare performance differences between input devices in temporal pointing tasks.\n",
    "\n",
    "![f6](figures/f6.png)"
   ]
  },
  {
   "cell_type": "markdown",
   "metadata": {
    "slideshow": {
     "slide_type": "slide"
    }
   },
   "source": [
    "<div class=\"alert alert-block alert-warning\">\n",
    "    <h3>Demonstration</h3>\n",
    "Let's compare the key-release technique and the key-press technique quantitatively based on the temporal pointing model.\n",
    "    <br>\n",
    "    See \"applications/blinking_release\"\n",
    "</div>\n",
    "\n",
    "![f11](figures/f11.png)"
   ]
  },
  {
   "cell_type": "code",
   "execution_count": 28,
   "metadata": {
    "slideshow": {
     "slide_type": "slide"
    }
   },
   "outputs": [
    {
     "name": "stdout",
     "output_type": "stream",
     "text": [
      "csigma=\n",
      "0.054074476439632084\n",
      "cmu=\n",
      "0.6653578689888734\n",
      "R2=\n",
      "0.9666027324052349\n"
     ]
    },
    {
     "data": {
      "image/png": "[encoded data removed]",
      "text/plain": [
       "<Figure size 432x288 with 1 Axes>"
      ]
     },
     "metadata": {
      "needs_background": "light"
     },
     "output_type": "display_data"
    }
   ],
   "source": [
    "### Plotting error rates from blinking target data obtained from \"key-release mode\"\n",
    "import pandas as pd \n",
    "import numpy as np\n",
    "import matplotlib\n",
    "import matplotlib.pyplot as plt\n",
    "from scipy.optimize import curve_fit # curve fitting function\n",
    "from scipy.special import erf # error function\n",
    "\n",
    "# read data file from blinking task Processing sketch\n",
    "# column 0 = condition, column 1 = trial, column 2 = period of blinking (ms), column 3 = temporal width (ms), column 4 = user input timing (ms), column 5 = success (1) fail (0)\n",
    "\n",
    "data = pd.read_csv(\"applications/blinking_release/data_blee.txt\", sep=',',header=None)\n",
    "\n",
    "ID=np.log2(data.iloc[:,2].divide(data.iloc[:,3]))\n",
    "\n",
    "error_rates=[]\n",
    "IDs=[]\n",
    "\n",
    "for i in range(0, max(data.iloc[:,0])+1):\n",
    "    selected_condition=(data.iloc[:, 0]==i)\n",
    "    mean_ID=ID[selected_condition].mean()\n",
    "    IDs.append(mean_ID)\n",
    "    error_rates.append(1.0-data.loc[selected_condition, 5].mean())\n",
    "\n",
    "def func(ID,csigma,cmu):\n",
    "    return (1 - (erf((1 - cmu)/csigma/np.exp2(ID+0.5))+ erf(cmu/csigma/np.exp2(ID + 0.5))) / 2)\n",
    "\n",
    "vfunc = np.vectorize(func) # vectorized function (allows element-wise function call)\n",
    "\n",
    "popt, pcov = curve_fit(func, IDs, error_rates)\n",
    "plt.plot(IDs, error_rates,'*')\n",
    "plt.plot(IDs,vfunc(IDs,popt[0], popt[1]),'r*')\n",
    "plt.xlabel('ID (bits)')\n",
    "plt.ylabel('Error rates')\n",
    "plt.legend(['Data', 'Model Fitting'])\n",
    "\n",
    "# obtaining R2 value of the fitting\n",
    "\n",
    "residuals = error_rates- vfunc(IDs,popt[0], popt[1])\n",
    "ss_res = np.sum(residuals**2) # residual sum of squares\n",
    "ss_tot = np.sum((error_rates-np.mean(error_rates))**2) # total sum of squares\n",
    "r_squared = 1 - (ss_res / ss_tot)\n",
    "\n",
    "print(\"csigma=\")\n",
    "print(popt[0])\n",
    "print(\"cmu=\")\n",
    "print(popt[1])\n",
    "print(\"R2=\")\n",
    "print(r_squared)"
   ]
  },
  {
   "cell_type": "markdown",
   "metadata": {
    "slideshow": {
     "slide_type": "slide"
    }
   },
   "source": [
    "<div class=\"alert alert-block alert-success\">\n",
    "    <h3>Question</h3>\n",
    "    Does c<sub>σ</sub>  differ from the data measured previously based on key-press technique? If there is a difference, why? Compare it with the results of other students. <br>\n",
    "    <br>\n",
    "    The touch screen also has two input methods, touch press and touch release. Is there a performance difference in the temporal pointing task between the two? What is the optimal touch input technique?\n",
    "</div>"
   ]
  },
  {
   "cell_type": "markdown",
   "metadata": {
    "slideshow": {
     "slide_type": "slide"
    }
   },
   "source": [
    "The process of evaluating the performance of input devices using the blinking-target selection model is described in more detail in the following paper:\n",
    "\n",
    "+ Lee, Byungjoo, and Antti Oulasvirta. \"[Modelling error rates in temporal pointing](http://files.cargocollective.com/611692/lee2016modelling.pdf).\" Proceedings of the 2016 CHI Conference on Human Factors in Computing Systems. ACM, 2016.\n",
    "\n",
    "A hint as to why key-release performance is less than key-press can be found in the following study:\n",
    "\n",
    "+ Oulasvirta, Antti, Sunjun Kim, and Byungjoo Lee. \"[Neuromechanics of a button press](https://userinterfaces.aalto.fi/neuromechanics/resources/pn4099-oulasvirtaA.pdf).\" Proceedings of the 2018 CHI Conference on Human Factors in Computing Systems. ACM, 2018."
   ]
  },
  {
   "cell_type": "markdown",
   "metadata": {
    "slideshow": {
     "slide_type": "slide"
    }
   },
   "source": [
    "## 5. Moving-target selection model\n",
    "\n",
    "Moving target selection is another form of temporal pointing task. The target moves in a predictable pattern toward a particular selection area. At this time, the user must press the button when the target is in the selection area.\n"
   ]
  },
  {
   "cell_type": "markdown",
   "metadata": {
    "slideshow": {
     "slide_type": "slide"
    }
   },
   "source": [
    "### Task variables\n",
    "+ P: The time period at which the target is created.\n",
    "+ B: Time it takes for the target to pass through the selection, when the target speed is s and the width of the selected area is W, B = W / s\n",
    "+ t<sub>c</sub>: The time it takes for the target to reach the selected area from the time it is first visible (i.e., cue viewing time)\n",
    "![f12](figures/f12.png)"
   ]
  },
  {
   "cell_type": "markdown",
   "metadata": {
    "slideshow": {
     "slide_type": "slide"
    }
   },
   "source": [
    "### Reminder: temporal distance and temporal width\n",
    "\n",
    "+ Temporal distance (D <sub>t</sub>): the user's <span style=\"color:red\">*perception*</span> of the time remaining until the moment the target becomes selectable (typical unit: milliseconds)\n",
    "+ Temporal width: (W <sub>t</sub>) the <span style=\"color:red\">*perceived*</span> duration from when the target becomes selectable until it becomes non-selectable (typical unit: milliseconds)\n",
    "\n",
    "![f2](figures/figure2.png)"
   ]
  },
  {
   "cell_type": "markdown",
   "metadata": {
    "slideshow": {
     "slide_type": "slide"
    }
   },
   "source": [
    "### Mean perception of temporal distance and temporal width\n",
    "We assume the user's unbiased perception of temporal width:\n",
    "+ Mean perception of temporal width (W<sub>t</sub>):\n",
    "    \\begin{equation}\n",
    "        M[W_{t}]=B\n",
    "    \\end{equation}\n",
    "\n",
    "+ Mean perception of temporal distance (D<sub>t</sub>): the temporal distance can be perceived separately from two different cues (repetition, movement).\n",
    "+ Therefore, it is difficult here to directly express how users perceive D<sub>t</sub>.\n",
    "+ Rather, we assume that the moment the target reaches the selection region is equally perceived from two different cues.\n",
    "\n",
    "![f13](figures/f13.png)"
   ]
  },
  {
   "cell_type": "markdown",
   "metadata": {
    "slideshow": {
     "slide_type": "slide"
    }
   },
   "source": [
    "### Standard deviation (i.e., reliability) of perceived temporal distance and temporal width\n",
    "+ Standard deviation of perceived temporal width (W<sub>t</sub>):\n",
    "    \\begin{equation}\n",
    "       SD[ W_{t}]\\sim 0 \\, \\, \\, \\, \\text{(when compared to the reliability of the perceived temporal distance)}\n",
    "    \\end{equation}"
   ]
  },
  {
   "cell_type": "markdown",
   "metadata": {
    "slideshow": {
     "slide_type": "slide"
    }
   },
   "source": [
    "Standard deviation of perceived temporal distance should be expressed for each cue. \n",
    "First, the perception from the **repetition cue** is the same as for blinking-target selection:\n",
    "\n",
    "+ Reliability of perceived temporal distance (D<sub>t</sub>) from repetition cue:\n",
    "    \\begin{equation}\n",
    "        SD[D_{t}]\\propto P \\, \\, \\, \\, \\text{(i.e., scalar property of the internal clock)}\n",
    "    \\end{equation}"
   ]
  },
  {
   "cell_type": "markdown",
   "metadata": {
    "slideshow": {
     "slide_type": "slide"
    }
   },
   "source": [
    "For the **movement cue**, we assume the following function:\n",
    "\n",
    "+ Reliability of perceived temporal distance (D<sub>t</sub>) from movement cue:\n",
    "    \\begin{equation}\n",
    "        SD[D_{t}]\\propto 1/(e^{\\nu t_{c}}-1)+\\delta\n",
    "    \\end{equation}\n",
    "\n",
    "    ![f14](figures/f14.png)\n",
    "\n",
    "This function represents a simple and intuitive fact. That is, the shorter the time to watch the target (i.e., shorter t<sub>c</sub>), the more difficult it is to perceive the time when the target reaches the selection area. When t<sub>c</sub> is zero, the standard deviation is infinity. ν represents the rate at which the standard deviation decreases as t<sub>c</sub> becomes longer. \n",
    "\n",
    "Also, no matter how long t<sub>c</sub> is given, the standard deviation of the perception cannot be zero. In other words, the reliability of the perception that can be obtained from the movement cue is bounded. The δ value represents the minimum standard deviation that can be obtained when t<sub>c</sub> is sufficiently long."
   ]
  },
  {
   "cell_type": "markdown",
   "metadata": {
    "slideshow": {
     "slide_type": "slide"
    }
   },
   "source": [
    "### Implicit aim point of the user\n",
    "Perception of temporal width and temporal distance allows the user to perform input. But the user has to decide one more thing. It is to determine what moment to aim within the perceived temporal width.\n",
    "\n",
    "+ The implicit aim point is the point at which the user is aiming within the temporal width and where the mean of the input distribution is located.\n",
    "+ The aim point is defined as the ratio relative to W<sub>t</sub>. \n",
    "+ For example, if the perceived temporal width is 100 ms and the mean of the input distribution is located at 25 ms, the implicit aim point is 0.25.\n",
    "![f18](figures/f18.png)"
   ]
  },
  {
   "cell_type": "markdown",
   "metadata": {
    "slideshow": {
     "slide_type": "slide"
    }
   },
   "source": [
    "### Modeling the input distribution\n",
    "\n",
    "The input distribution of the user is Gaussian in time. Let R(t) be the input distribution. The moment when the target is turned on is defined as *t*=0. Then the mean of R(t) can be considered to be μ apart from the moment the target is turned on: \n",
    "\n",
    "![f12](figures/figure12.png)\n",
    "\n",
    "Furthermore, given the standard deviation of the input distribution as σ, R (t) can be expressed as:\n",
    "\n",
    "\\begin{equation}\n",
    "R(t|\\mu ,\\sigma )=\\frac{1}{\\sigma \\sqrt{2\\pi }}e^{\\frac{-(t-\\mu)^2}{2\\sigma ^2}}\n",
    "\\end{equation}"
   ]
  },
  {
   "cell_type": "markdown",
   "metadata": {
    "slideshow": {
     "slide_type": "slide"
    }
   },
   "source": [
    "### Modeling the input distribution\n",
    "Things we have:\n",
    "+ The mean and standard deviation of temporal width perceived by the user\n",
    "+ The standard deviation of temporal distance perceived by the user from each cues\n",
    "+ User's implicit aim point\n",
    "\n",
    "The values we must express with the above things:\n",
    "+ Mean (μ) and standard deviation (σ) of input distribution"
   ]
  },
  {
   "cell_type": "markdown",
   "metadata": {
    "slideshow": {
     "slide_type": "slide"
    }
   },
   "source": [
    "### Assumptions for determining σ and μ of the input distribution\n",
    "The following two assumptions are the same as those introduced in the blinking-target selection model:\n",
    "\n",
    "+ Motor noise that makes a negligible contribution to the standard deviation of the input distribution (i.e., sufficiently long P with very short input movement)\n",
    "+ The user's constant implicit aim point, which does not vary with W<sub>t</sub>. For example, if the user intends an aim point of 0.25, it means that the mean (μ) of Gaussian is located at 25 ms when W<sub>t</sub> is 100 ms and at 50 ms when W<sub>t</sub> is 200 ms.\n",
    "![f9](figures/f9.png)"
   ]
  },
  {
   "cell_type": "markdown",
   "metadata": {
    "slideshow": {
     "slide_type": "slide"
    }
   },
   "source": [
    "### Mean (μ) of input distribution\n",
    "+ From the assumption of the user's constant implicit aim point, the mean (μ) of the input distribution is expressed as:\n",
    "\\begin{equation}\n",
    "    \\mu = c_{\\mu} \\cdot W_{t} = c_{\\mu} \\cdot B\n",
    "\\end{equation}\n",
    "+ c<sub>μ</sub> is a value indicating the implicit aim point of the user.\n",
    "+ Reminder: B represents the duration of the target passing through the selection region\n"
   ]
  },
  {
   "cell_type": "markdown",
   "metadata": {
    "slideshow": {
     "slide_type": "slide"
    }
   },
   "source": [
    "### Standard deviation (σ) of input distribution\n",
    "From the negligible motor noise and scalar property of the internal clock, the standard deviation (σ) of the input distribution can be expressed as:\n",
    "\\begin{equation}\n",
    "    \\sigma \\sim SD[D_{t}]\n",
    "\\end{equation}\n",
    "But the problem is that D<sub>t</sub> can be perceived separately from two different cues (i.e., repetiton, movement)."
   ]
  },
  {
   "cell_type": "markdown",
   "metadata": {
    "slideshow": {
     "slide_type": "slide"
    }
   },
   "source": [
    "### Integration of perception from two different cues\n",
    "+ In the perception of a physical quantity, humans integrate perceptions from different senses into a single perception in a statistically optimal way. \n",
    "+ For example, let's say a person perceives the size of a ball. Let's say that a person perceives the size of the ball as M<sub>V</sub> through vision and the size of the ball as M<sub>H</sub> through the haptic. Let the standard deviation of each perception be SD<sub>V</sub>, SD<sub>H</sub>.\n",
    "+ According to the queue integration theory, the final ball size perceived by the person is calculated as follows based on the maximum likelihood estimation (MLE):\n",
    "   \\begin{align}\n",
    "   M_{intergrated}&= w_V \\cdot M_{V} + w_H \\cdot M_{H}\\\\\n",
    "      w_{V}&= \\frac{1/SD_V^{2}}{(1/SD_{V}^2+1/SD_{H}^2}) \\, \\, \\, \\, and \\, \\, \\, \\, w_{H}&= \\frac{1/SD_H^{2}}{(1/SD_{V}^2+1/SD_{H}^2})\\\\\n",
    "        SD_{integrated} &= \\frac{SD_{V}SD_{H}}{\\sqrt{SD_{V}^2+SD_{H}^2}}\n",
    "    \\end{align}\n",
    "    \n",
    "   \n",
    "![f20](figures/f20.png)\n",
    "\n",
    "To learn more about the cue integration theory, please refer to the following paper:\n",
    "+ Ernst, Marc O., and Martin S. Banks. \"Humans integrate visual and haptic information in a statistically optimal fashion.\" Nature 415.6870 (2002): 429."
   ]
  },
  {
   "cell_type": "markdown",
   "metadata": {
    "slideshow": {
     "slide_type": "slide"
    }
   },
   "source": [
    "### Integration of perception from two different cues\n",
    "+ In the case of moving target selection, it can be regarded as similar to the case of determining the size of the ball.\n",
    "+ In particular, we do not need to consider cue integration for the mean since we assume that the mean perception of when the target arrives in the selection region is the same from each cue.\n",
    "+ (Reminder) reliability of perceived temporal distance (D<sub>t</sub>) from repetition cue:\n",
    "    \\begin{equation}\n",
    "        SD[D_{t}]\\propto P \\, \\, \\, \\, \\text{(i.e., scalar property of the internal clock)}\n",
    "    \\end{equation}\n",
    "\n",
    "+ (Reminder) reliability of perceived temporal distance (D<sub>t</sub>) from movement cue:\n",
    "    \\begin{equation}\n",
    "        SD[D_{t}]\\propto 1/(e^{\\nu t_{c}}-1)+\\delta\n",
    "    \\end{equation}\n",
    "\n",
    "+ (Additional assumption) the proportional constant between the value of the temporal distance and its standard deviation is the same for different perceptions. The standard deviation of the integrated perception is then expressed as:\n",
    "\n",
    "\\begin{equation}\n",
    "    SD[D_{t}] \\propto P/\\sqrt{1+(P/(1/(\\exp(\\nu t_{c})-1)+\\delta))^{2}}\n",
    "\\end{equation}\n",
    "\n",
    "![f21](figures/f21.png)"
   ]
  },
  {
   "cell_type": "markdown",
   "metadata": {
    "slideshow": {
     "slide_type": "slide"
    }
   },
   "source": [
    "### Standard deviation (σ) of input distribution\n",
    "From the negligible motor noise and scalar property of the internal clock, the standard deviation (σ) of the input distribution can be expressed as:\n",
    "\\begin{equation}\n",
    "    \\sigma \\sim SD[D_{t}] = c_{\\sigma} \\cdot P/\\sqrt{1+(P/(1/(\\exp(\\nu t_{c})-1)+\\delta))^{2}}\n",
    "\\end{equation}\n",
    "c<sub>σ</sub> is a proportional constant representing the scalar property of the internal clock. By introducing a new variable V, the equation can be simplified to:\n",
    "\\begin{align}\n",
    "V&=P/\\sqrt{1+(P/(1/(\\exp(\\nu t_{c})-1)+\\delta))^{2}}\\\\\n",
    "    \\sigma &\\sim SD[D_{t}] = c_{\\sigma} V\n",
    "\\end{align}"
   ]
  },
  {
   "cell_type": "markdown",
   "metadata": {
    "slideshow": {
     "slide_type": "slide"
    }
   },
   "source": [
    "### Final input distribution\n",
    "Plugging $\\sigma$ and $\\mu$ into R(t), we obtain a function for response distribution:\n",
    "\\begin{equation}\n",
    "R(t|B,V)=\\frac{1}{c_{\\sigma}V \\sqrt{2\\pi }}e^{\\frac{-(t-c_{\\mu} \\cdot B)^2}{2 (c_{\\sigma} \\cdot V) ^2}}\n",
    "\\end{equation}\n",
    "\n",
    "This is equivalent to changing P to V in the blinking-target selection model."
   ]
  },
  {
   "cell_type": "markdown",
   "metadata": {
    "slideshow": {
     "slide_type": "slide"
    }
   },
   "source": [
    "### Input error rates\n",
    "We can now calculate error rate (E) by subtracting the hit area from the total area in the distribution:\n",
    "\\begin{equation}\n",
    "\\begin{aligned}\n",
    "E&(B, V) = 1-\\int_{0}^{B-\\mu} R(t)dt  - \\int_{0}^{\\mu} R(t)dt\\\\\n",
    "\t&=1-\\frac{1}{2}\\left[erf(\\frac{B-\\mu}{\\sigma\\sqrt{2}}) \t+erf(\\frac{\\mu}{\\sigma\\sqrt{2}})\\right]\\\\\n",
    "\t&=1-\\frac{1}{2}\\left[erf(\\frac{(1-c_{\\mu})}{c_{\\sigma}\\sqrt{2}}\\cdot \\frac{B}{V}) +erf(\\frac{c_{\\mu}}{c_{\\sigma}\\sqrt{2}}\\cdot \\frac{B}{V})\\right]\n",
    "\\end{aligned}\n",
    "\\end{equation} "
   ]
  },
  {
   "cell_type": "markdown",
   "metadata": {
    "slideshow": {
     "slide_type": "slide"
    }
   },
   "source": [
    "<div class=\"alert alert-block alert-success\">\n",
    "    <h3>Question</h3>\n",
    "    According to the model predictions, in what cases will the error rate of the user increase?\n",
    "</div>"
   ]
  },
  {
   "cell_type": "markdown",
   "metadata": {
    "slideshow": {
     "slide_type": "slide"
    }
   },
   "source": [
    "### Index of difficulty (ID)\n",
    "\n",
    "In the moving-target selection model obtained above, the error rate can also be calculated from a single dimensionless value. We call it the temporal index of difficulty (ID, unit: bits). ID can be defined in a manner similar to Fitts' law:\n",
    "\\begin{equation}\n",
    "ID = \\log_2(\\frac{V}{B})\n",
    "\\end{equation}\n",
    "\n",
    "We can compute E by using index of difficulty ID:\n",
    "\\begin{equation}\n",
    "E (ID) =1-\\frac{1}{2}\\left[erf(\\frac{(1-c_{\\mu})}{c_{\\sigma}2^{(ID+0.5)}})+erf(\\frac{c_{\\mu}}{c_{\\sigma}2^{(ID+0.5)}})\\right]\n",
    "\\end{equation} "
   ]
  },
  {
   "cell_type": "markdown",
   "metadata": {
    "slideshow": {
     "slide_type": "slide"
    }
   },
   "source": [
    "<div class=\"alert alert-block alert-warning\">\n",
    "    <h3>Demonstration</h3>\n",
    "Let's test the assumptions of the moving- target selection model based on your temporal pointing data.    <br>\n",
    "Let's fit the model to your temporal pointing error rates.\n",
    "</div>"
   ]
  },
  {
   "cell_type": "code",
   "execution_count": 29,
   "metadata": {
    "slideshow": {
     "slide_type": "slide"
    }
   },
   "outputs": [
    {
     "data": {
      "image/png": "[encoded data removed]",
      "text/plain": [
       "<Figure size 432x288 with 2 Axes>"
      ]
     },
     "metadata": {
      "needs_background": "light"
     },
     "output_type": "display_data"
    }
   ],
   "source": [
    "# Validation of  \"constant aim point\" assumption\n",
    "import numpy as np\n",
    "import pandas as pd \n",
    "import matplotlib\n",
    "import matplotlib.pyplot as plt\n",
    "\n",
    "# read data file from moving task Processing sketch\n",
    "# column 0 = condition, column 1= trial, column 2 = period of appearing (ms), column 3 = temporal width (ms), \n",
    "# column 4 = cue viewing time (ms), column 5 = user input timing, column 6 = success (1) fail (0), \n",
    "# column 7 = width of the display, column 8 = height of the display, column 9 = target speed (pixels/frame)\n",
    "# Note: framerate of the Processing sketch is 60 Hz\n",
    "\n",
    "data = pd.read_csv(\"applications/moving/data_blee.txt\", sep=',',header=None)\n",
    "\n",
    "# shifting overshoot rials\n",
    "overshoots=data.iloc[:, 5]<data.iloc[:, 7]/2.0\n",
    "data.loc[overshoots,5]=data.loc[overshoots,5]+data.loc[overshoots,7]\n",
    "\n",
    "# convert to time unit\n",
    "input_timing=data.loc[:,5].div(data.loc[:,9].multiply(60.0))\n",
    "\n",
    "plt.subplot(1,2,1)\n",
    "plt.hist(input_timing,bins=100)\n",
    "plt.title('Histogram of input timing')\n",
    "\n",
    "tc=data.iloc[:, 4]/1000.0 # ms to s\n",
    "\n",
    "unique_tcs=pd.unique(tc)\n",
    "means=[]\n",
    "for i in range(0, unique_tcs.__len__()):\n",
    "    selected_condition=(tc==unique_tcs[i])\n",
    "    means.append(input_timing.loc[selected_condition].mean())\n",
    "\n",
    "plt.subplot(1,2,2)\n",
    "plt.plot(unique_tcs,means,'*')\n",
    "plt.xlabel('cue viewing time (s)')\n",
    "plt.ylabel('mean of input timing (s)')\n",
    "plt.axis([0, 0.25, 0, 2])\n",
    "plt.tight_layout()"
   ]
  },
  {
   "cell_type": "code",
   "execution_count": 3,
   "metadata": {
    "slideshow": {
     "slide_type": "slide"
    }
   },
   "outputs": [
    {
     "name": "stdout",
     "output_type": "stream",
     "text": [
      "csigma=\n",
      "0.03797854699837006\n",
      "cmu=\n",
      "0.4999986048065637\n",
      "nu=\n",
      "2.783183740763207\n",
      "delta=\n",
      "1.4095352821471814e-06\n",
      "R2=\n",
      "0.933727976099689\n"
     ]
    },
    {
     "data": {
      "image/png": "[encoded data removed]",
      "text/plain": [
       "<Figure size 432x288 with 1 Axes>"
      ]
     },
     "metadata": {
      "needs_background": "light"
     },
     "output_type": "display_data"
    }
   ],
   "source": [
    "#  Error rates fitting with moving-target selection model\n",
    "import numpy as np\n",
    "import pandas as pd \n",
    "import matplotlib\n",
    "import matplotlib.pyplot as plt\n",
    "from scipy.optimize import curve_fit # curve fitting function\n",
    "from scipy.special import erf # error function\n",
    "import sys\n",
    "\n",
    "\n",
    "# returning errorrates\n",
    "def func(X, csigma,cmu, nu, delta):\n",
    "    tc, P, B=X      \n",
    "    V=P / np.sqrt( 1.0+np.power(P/( 1.0/(np.exp(nu*tc) -1.0  )  +delta )  , 2.0) )\n",
    "    ID=np.log2(V/B)\n",
    "    return (1.0 - (erf((1.0 - cmu)/csigma/np.exp2(ID+0.5))+ erf(cmu/csigma/np.exp2(ID + 0.5))) / 2.0)\n",
    "\n",
    "vfunc= np.vectorize(func) # vectorized function (allows element-wise function call)\n",
    "\n",
    "# returning ID\n",
    "def func2(tc,P,B, nu, delta):\n",
    "    V=P / np.sqrt( 1.0+np.power(P/( 1.0/(np.exp(nu*tc) -1.0  )  +delta )  , 2.0) )\n",
    "    ID=np.log2(V/B)\n",
    "    return ID\n",
    "\n",
    "vfunc2= np.vectorize(func2) # vectorized function (allows element-wise function call)\n",
    "\n",
    "# returning error rates\n",
    "def func3(tc, P, B, csigma,cmu, nu, delta):\n",
    "    V=P / np.sqrt( 1.0+np.power(P/( 1.0/(np.exp(nu*tc) -1.0 )  +delta )  , 2.0) )\n",
    "    ID=np.log2(V/B)\n",
    "    return (1.0 - (erf((1.0- cmu)/csigma/np.exp2(ID+0.5))+ erf(cmu/csigma/np.exp2(ID + 0.5))) / 2.0)\n",
    "\n",
    "vfunc3= np.vectorize(func3) # vectorized function (allows element-wise function call)\n",
    "\n",
    "# read data file from moving task Processing sketch\n",
    "# column 0 = condition, column 1= trial, column 2 = period of appearing (ms), column 3 = temporal width (ms), \n",
    "# column 4 = cue viewing time (ms), column 5 = user input timing, column 6 = success (1) fail (0), \n",
    "# column 7 = width of the display, column 8 = height of the display, column 9 = target speed (pixels/frame)\n",
    "# Note: framerate of the Processing sketch is 60 Hz\n",
    "\n",
    "data = pd.read_csv(\"applications/moving/data_blee.txt\", sep=',',header=None)\n",
    "\n",
    "error_rates=[]\n",
    "tcs=[]\n",
    "Ps=[]\n",
    "Bs=[]\n",
    "\n",
    "for i in range(0, max(data.iloc[:,0])+1):\n",
    "    selected_condition=(data.iloc[:, 0]==i)\n",
    "    tc=data.loc[selected_condition, 4].mean()/1000.0 # ms to s\n",
    "    if tc==0:\n",
    "        tc=sys.float_info.epsilon\n",
    "    tcs.append(tc) \n",
    "    Ps.append(data.loc[selected_condition, 2].mean()/1000.0) # ms to s\n",
    "    Bs.append(data.loc[selected_condition, 3].mean()/1000.0) # ms to s\n",
    "    error_rates.append(1.0-data.loc[selected_condition, 6].mean())\n",
    "\n",
    "tcs=np.array(tcs)\n",
    "Ps=np.array(Ps)\n",
    "Bs=np.array(Bs)\n",
    "\n",
    "p0=[0.08, 0.25, 20, 0.3] # typical values\n",
    "popt, pcov = curve_fit(func, (tcs,Ps,Bs), error_rates, p0, maxfev = 1000, bounds=[[0,0, 0, 0],[np.Infinity,np.Infinity,np.Infinity,np.Infinity ]])\n",
    "\n",
    "IDs=vfunc2(tcs,Ps,Bs,popt[2],popt[3])\n",
    "\n",
    "plt.plot(IDs, error_rates,'*')\n",
    "plt.plot(IDs,vfunc3(tcs,Ps,Bs,popt[0], popt[1], popt[2], popt[3]),'r*')\n",
    "plt.xlabel('ID (bits)')\n",
    "plt.ylabel('Error rates')\n",
    "plt.legend(['Data', 'Model Fitting'])\n",
    "\n",
    "# obtaining R2 value of the fitting\n",
    "\n",
    "residuals = error_rates- vfunc3(tcs,Ps,Bs,popt[0], popt[1], popt[2], popt[3])\n",
    "ss_res = np.sum(residuals**2) # residual sum of squares\n",
    "ss_tot = np.sum((error_rates-np.mean(error_rates))**2) # total sum of squares\n",
    "r_squared = 1 - (ss_res / ss_tot)\n",
    "\n",
    "print(\"csigma=\")\n",
    "print(popt[0])\n",
    "print(\"cmu=\")\n",
    "print(popt[1])\n",
    "print(\"nu=\")\n",
    "print(popt[2])\n",
    "print(\"delta=\")\n",
    "print(popt[3])\n",
    "print(\"R2=\")\n",
    "print(r_squared)"
   ]
  },
  {
   "cell_type": "markdown",
   "metadata": {
    "slideshow": {
     "slide_type": "slide"
    }
   },
   "source": [
    "<div class=\"alert alert-block alert-success\">\n",
    "    <h3>Question</h3>\n",
    "    Compare the parameters obtained from fittings with other students. Why does the difference occur?\n",
    "</div>"
   ]
  },
  {
   "cell_type": "markdown",
   "metadata": {
    "slideshow": {
     "slide_type": "slide"
    }
   },
   "source": [
    "#### Interpretation of parameters obtained from fittings\n",
    "c<sub>σ</sub> and c<sub>μ</sub> have the same meaning as in the blinking-target selection model. The values of the two newly introduced parameters in the moving-target selection model are interpreted as follows:\n",
    "\n",
    "+ ν: This value is the rate at which the standard deviation of the timing perception from the movement cue decreases as the time to observe the target motion increases. That is, the higher the value, the more efficient the user is to utilize the visual information. This may be viewed as a given motion of the target that is easier for the user to decode the timing information.\n",
    "+ δ: This is the minimum value of the standard deviation of the timing perception that the user can obtain from the movement cue. This value can also vary from the user's ability to decode the movement cue and the characteristics of the given target."
   ]
  },
  {
   "cell_type": "markdown",
   "metadata": {
    "slideshow": {
     "slide_type": "slide"
    }
   },
   "source": [
    "#### Application: one-button game difficulty design\n",
    "From the prevalence of smartphones, games that play only with button input are gaining popularity. In that genre, called the [one-button game](https://www.crazygames.com/t/one-button), moving-target selection is the most basic task. With the moving-target selection model, one-button game difficulty can be designed for different people at a desired value without much play testing."
   ]
  },
  {
   "cell_type": "markdown",
   "metadata": {
    "slideshow": {
     "slide_type": "slide"
    }
   },
   "source": [
    "<div class=\"alert alert-block alert-danger\">\n",
    "    <h3>Exercise 1: Beatmania design</h3>\n",
    "- Based on your own model parameters, use the moving-target selection model to find the target speed and the size of the selection  region that will make the error rate of the Beatmania game 30%, 50%, 70% ((Hint: assume appropriate game BPM and screen size) <br>\n",
    "    <br>\n",
    "- What are the limitations of predicting Beatmania's difficulty based on the moving-target selection model?\n",
    "</div>\n",
    "\n",
    "![f15](figures/f15.png)\n",
    "\n",
    "[Beatmania Video](https://www.youtube.com/watch?v=x27V53j_cc4)"
   ]
  },
  {
   "cell_type": "markdown",
   "metadata": {
    "slideshow": {
     "slide_type": "slide"
    }
   },
   "source": [
    "<div class=\"alert alert-block alert-danger\">\n",
    "    <h3>Exercise 2: Cake Tower design</h3>\n",
    "- Based on the moving-target selection model, predict how many cake layers you can stack on average (Hint: Assume a moderate cake speed and a period of appearance) <br><br>    \n",
    "</div>\n",
    "\n",
    "![f16](figures/f16.png)\n",
    "\n",
    "[Cake Tower Video](https://www.funtory.house/contents-list-2/caketower)"
   ]
  },
  {
   "cell_type": "markdown",
   "metadata": {
    "slideshow": {
     "slide_type": "slide"
    }
   },
   "source": [
    "The solutions to each exercise can be found at */solutions*."
   ]
  },
  {
   "cell_type": "markdown",
   "metadata": {
    "slideshow": {
     "slide_type": "slide"
    }
   },
   "source": [
    "For more information on game-level design through the moving-target selection model, see the following three papers:\n",
    "\n",
    "+ Lee, Byungjoo, and Antti Oulasvirta. \"[Modelling error rates in temporal pointing](http://files.cargocollective.com/611692/lee2016modelling.pdf).\" Proceedings of the 2016 CHI Conference on Human Factors in Computing Systems. ACM, 2016.\n",
    "+ Lee, Byungjoo, et al. \"[Moving target selection: A cue integration model](https://files.cargocollective.com/707219/pn2399-leeA--1-.pdf).\" Proceedings of the 2018 CHI Conference on Human Factors in Computing Systems. ACM, 2018.\n",
    "+ Lee, Injung, Sunjun Kim, and Byungjoo Lee. \"[Geometrically Compensating Effect of End-to-End Latency in Moving-Target Selection Games](https://files.cargocollective.com/611692/paper560--1-.pdf).\" Proceedings of the 2019 CHI Conference on Human Factors in Computing Systems. ACM, 2019."
   ]
  },
  {
   "cell_type": "markdown",
   "metadata": {
    "slideshow": {
     "slide_type": "slide"
    }
   },
   "source": [
    "## 6. Open modeling challenges\n",
    "\n",
    "These are future modeling challenges for temporal pointing tasks:\n",
    "\n",
    "+ Integrated model of reaction task and temporal pointing: there is no model for predicting the error rate of the user when the choice-reaction task and the temporal pointing task are combined. For example, if there are multiple selection regions and the location where the target is generated is given randomly, how will the error rate of the user be different from the moving-target selection with only one selection region?\n",
    "+ Temporal pointing with variable target repetition period: models covered in this lecture let us predict the error rate when a blinking-target or a moving-target is repeatedly generated with a fixed time period. In most games, however, the length of the period in which the target appears is not constant. \n",
    "+ The effect of various target movements on moving-target selection performance is not known.\n",
    "+ The effect of the type of feedback from the system on temporal pointing performance is unknown. For example, how is it different from giving feedback only when successful, and giving separate feedback for both successes and failures?\n",
    "+ How should we combine temporal pointing models with other HCI models (e.g., Fitts' law)?\n",
    "+ What is the relationship between the difficulty of temporal pointing and the sense of agency the user perceives?"
   ]
  },
  {
   "cell_type": "markdown",
   "metadata": {},
   "source": [
    "### Summary\n",
    "\n",
    "+ Unpaced tapping model (Wing-Kristofferson model)\n",
    "+ Introduction to the concept of temporal pointing\n",
    "+ Blinking-target selection model\n",
    "+ Moving-target selection model "
   ]
  }
 ],
 "metadata": {
  "celltoolbar": "Slideshow",
  "kernelspec": {
   "display_name": "Python 2",
   "language": "python",
   "name": "python2"
  },
  "language_info": {
   "codemirror_mode": {
    "name": "ipython",
    "version": 2
   },
   "file_extension": ".py",
   "mimetype": "text/x-python",
   "name": "python",
   "nbconvert_exporter": "python",
   "pygments_lexer": "ipython2",
   "version": "2.7.10"
  }
 },
 "nbformat": 4,
 "nbformat_minor": 2
}
