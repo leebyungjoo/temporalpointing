{
 "cells": [
  {
   "cell_type": "code",
   "execution_count": 1,
   "metadata": {
    "slideshow": {
     "slide_type": "slide"
    }
   },
   "outputs": [
    {
     "name": "stdout",
     "output_type": "stream",
     "text": [
      "('You can stack ', 1.48, 'layers of cake on average')\n"
     ]
    }
   ],
   "source": [
    "# Predicting Cake Tower score\n",
    "\n",
    "import numpy as np\n",
    "import matplotlib\n",
    "import matplotlib.pyplot as plt\n",
    "\n",
    "P=1000.0 #  period of cake appearing (ms)\n",
    "C0=120.0  # initial size of the cake (mm)\n",
    "F=50.0 # distance to the center cake\n",
    "cake_speed=590.0  # mm/s\n",
    "\n",
    "# put your parameters here\n",
    "csigma=0.03797854699837006\n",
    "cmu=0.4999986048065637\n",
    "nu= 2.783183740763207\n",
    "delta= 1.4095352821471814e-06\n",
    "\n",
    "tc=F/cake_speed\n",
    "\n",
    "def nextWidth(trial, B):\n",
    "    new_B=0\n",
    "    if trial<=B/2:\n",
    "        new_B=trial*2;\n",
    "    else:\n",
    "        new_B=B-2*(trial-B/2.0)    \n",
    "    return new_B\n",
    "\n",
    "#Monto Carlo simulation of game play\n",
    "cake_heights=[]\n",
    "for i in range(0, 100): # number of game restarts\n",
    "    V=P / np.sqrt( 1.0+np.power(P/( 1.0/(np.exp(nu*tc) -1.0  )  +delta )  , 2.0) )\n",
    "    sigma=csigma*V\n",
    "    cake_height=0\n",
    "    B=2*C0/cake_speed # Note: the time it takes the cake to pass completely through the same size cake\n",
    "\n",
    "    for j in range(0, 100): # maximum number of button presses\n",
    "        mu=cmu*B\n",
    "        trial=np.random.normal(mu, sigma, 1) # single game trial\n",
    "        if trial<0 or trial>B:\n",
    "            break\n",
    "        else:\n",
    "            cake_height=cake_height+1.0\n",
    "            B=nextWidth(trial,B)\n",
    "            \n",
    "    cake_heights.append(cake_height)\n",
    "\n",
    "print(\"You can stack \", sum(cake_heights) / float(len(cake_heights)),\"layers of cake on average\")\n",
    "        "
   ]
  }
 ],
 "metadata": {
  "celltoolbar": "Slideshow",
  "kernelspec": {
   "display_name": "Python 2",
   "language": "python",
   "name": "python2"
  },
  "language_info": {
   "codemirror_mode": {
    "name": "ipython",
    "version": 2
   },
   "file_extension": ".py",
   "mimetype": "text/x-python",
   "name": "python",
   "nbconvert_exporter": "python",
   "pygments_lexer": "ipython2",
   "version": "2.7.10"
  }
 },
 "nbformat": 4,
 "nbformat_minor": 2
}
