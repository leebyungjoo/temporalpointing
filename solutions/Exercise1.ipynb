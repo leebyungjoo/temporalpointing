{
 "cells": [
  {
   "cell_type": "code",
   "execution_count": 1,
   "metadata": {
    "slideshow": {
     "slide_type": "slide"
    }
   },
   "outputs": [
    {
     "name": "stdout",
     "output_type": "stream",
     "text": [
      "('The speed of the target should be ', 564.42, 'mm/s')\n"
     ]
    },
    {
     "data": {
      "text/plain": [
       "Text(0,0.5,'Error rates\"')"
      ]
     },
     "execution_count": 1,
     "metadata": {},
     "output_type": "execute_result"
    }
   ],
   "source": [
    "# Beatmania difficulty design\n",
    "\n",
    "import numpy as np\n",
    "import matplotlib\n",
    "import matplotlib.pyplot as plt\n",
    "from scipy.special import erf # error function\n",
    "\n",
    "selection_region_size=5.0 # mm\n",
    "target_speed=200.0 # mm/s\n",
    "display_height=100.0 # mm\n",
    "BPM=60.0 # beats per minute\n",
    "\n",
    "B=selection_region_size/target_speed\n",
    "P=BPM/60.0\n",
    "tc=display_height/target_speed\n",
    "\n",
    "# returning error rates\n",
    "def func(tc,P,B, csigma,cmu, nu, delta):\n",
    "    V=P / np.sqrt( 1.0+np.power(P/( 1.0/(np.exp(nu*tc) -1.0 )  +delta )  , 2.0) )\n",
    "    ID=np.log2(V/B)\n",
    "    return (1.0 - (erf((1.0- cmu)/csigma/np.exp2(ID+0.5))+ erf(cmu/csigma/np.exp2(ID + 0.5))) / 2.0)\n",
    "\n",
    "# put your parameters here\n",
    "csigma=0.03797854699837006\n",
    "cmu=0.4999986048065637\n",
    "nu= 2.783183740763207\n",
    "delta= 1.4095352821471814e-06\n",
    "\n",
    "target_error_rates=0.9\n",
    "all_target_speeds=[]\n",
    "all_error_rates=[]\n",
    "for i in range(1000, 100000):\n",
    "    target_speed=float(i)/100.0# mm/s\n",
    "\n",
    "    B=selection_region_size/target_speed\n",
    "    P=BPM/60.0\n",
    "    tc=display_height/target_speed\n",
    "    error_rates=func(tc,P,B,csigma,cmu,nu,delta)\n",
    "    \n",
    "    # for plotting\n",
    "    all_target_speeds.append(target_speed)\n",
    "    all_error_rates.append(error_rates)\n",
    "    \n",
    "    if np.abs(target_error_rates-error_rates)<0.01:\n",
    "        print(\"The speed of the target should be \",target_speed,\"mm/s\")\n",
    "        break\n",
    "        \n",
    "plt.plot(all_target_speeds,all_error_rates)\n",
    "plt.xlabel('Target Speed (mm/s)\"')\n",
    "plt.ylabel('Error rates\"')"
   ]
  }
 ],
 "metadata": {
  "celltoolbar": "Slideshow",
  "kernelspec": {
   "display_name": "Python 2",
   "language": "python",
   "name": "python2"
  },
  "language_info": {
   "codemirror_mode": {
    "name": "ipython",
    "version": 2
   },
   "file_extension": ".py",
   "mimetype": "text/x-python",
   "name": "python",
   "nbconvert_exporter": "python",
   "pygments_lexer": "ipython2",
   "version": "2.7.10"
  }
 },
 "nbformat": 4,
 "nbformat_minor": 2
}
